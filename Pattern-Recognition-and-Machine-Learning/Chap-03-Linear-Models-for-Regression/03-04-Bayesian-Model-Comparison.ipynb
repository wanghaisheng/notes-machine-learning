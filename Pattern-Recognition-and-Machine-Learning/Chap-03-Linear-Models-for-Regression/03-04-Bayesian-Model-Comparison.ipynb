{
 "cells": [
  {
   "cell_type": "markdown",
   "metadata": {},
   "source": [
    "# 3.4 贝叶斯模型比较"
   ]
  },
  {
   "cell_type": "markdown",
   "metadata": {},
   "source": [
    "假设我们希望比较 $L$ 个模型 $\\{\\mathcal M_i\\}, i=1,\\dots,L$，这里不同的模型表示在同一个观测集 $\\mathcal D$ 下的不同概率分布。\n",
    "\n",
    "我们考虑模型的先验分布 $p(\\mathcal M_i)$，其后验分布为：\n",
    "\n",
    "$$\n",
    "p(\\mathcal M_i|\\mathcal D) \\propto p(\\mathcal M_i)p(\\mathcal D|\\mathcal M_i)\n",
    "$$\n",
    "\n",
    "假设这 $L$ 个模型的先验分布式一样的，从而对于后验分布，我们只需要关心\n",
    "`model evidence` 这个量： $p(\\mathcal D|\\mathcal M_i)$，它也可以看成模型的似然函数。\n",
    "\n",
    "比例 $p(\\mathcal D|\\mathcal M_i)/p(\\mathcal D|\\mathcal M_j)$ 通常叫做 `Bayes factor`。\n",
    "\n",
    "一旦我们知道了后验分布，混合分布为：\n",
    "\n",
    "$$\n",
    "p(t|\\mathbf x,\\mathcal D) = \\sum_{i=1}^L p(t|\\mathbf x,\\mathcal M_i, \\mathcal D) p(\\mathcal M_i|\\mathcal D)\n",
    "$$\n",
    "\n",
    "在这种情况下，如果两个模型分别是 $t=a, t=b$ 处的单峰模型，那么它们的混合式一个 $t=a, t=b$ 的双峰模型。\n",
    "\n",
    "对这个混合分布的一个简单近似是使用单一的最好模型，这种方法叫做模型选择（`model select`）。"
   ]
  },
  {
   "cell_type": "code",
   "execution_count": null,
   "metadata": {
    "collapsed": true
   },
   "outputs": [],
   "source": []
  }
 ],
 "metadata": {
  "kernelspec": {
   "display_name": "Python 2",
   "language": "python",
   "name": "python2"
  },
  "language_info": {
   "codemirror_mode": {
    "name": "ipython",
    "version": 2
   },
   "file_extension": ".py",
   "mimetype": "text/x-python",
   "name": "python",
   "nbconvert_exporter": "python",
   "pygments_lexer": "ipython2",
   "version": "2.7.6"
  }
 },
 "nbformat": 4,
 "nbformat_minor": 0
}
