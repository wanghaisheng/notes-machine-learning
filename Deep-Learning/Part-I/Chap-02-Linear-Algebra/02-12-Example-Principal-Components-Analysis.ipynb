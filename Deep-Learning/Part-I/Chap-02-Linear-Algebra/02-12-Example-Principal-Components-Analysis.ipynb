{
 "cells": [
  {
   "cell_type": "markdown",
   "metadata": {},
   "source": [
    "# 2.12 例子：主成分分析"
   ]
  },
  {
   "cell_type": "markdown",
   "metadata": {},
   "source": [
    "主成分分析是一个可以使用线性代数知识就能进行推导的机器学习算法。\n",
    "\n",
    "假设我们有 $m$ 个数据点 $x^{(1)}, \\dots, x^{(m)} \\in \\mathbb R^{n}$，我们希望对它进行降维，或者压缩，但是不希望让它损失太多的信息。\n",
    "\n",
    "对于每个数据点 $x^{(i)}$，我们希望找到一个对应的点 $c^{(i)}\\in\\mathbb R^{l}$ 来表示它，如果 $l < n$，它就相当于对原数据的一个降维。\n",
    "\n",
    "我们将这个过程看作是一个编码函数 $f(\\mathbf x)=\\mathbf c$，并且有一个对应的解码函数使得：$x\\approx g(f(\\mathbf x))$。"
   ]
  },
  {
   "cell_type": "markdown",
   "metadata": {},
   "source": [
    "### 主成分分析"
   ]
  },
  {
   "cell_type": "markdown",
   "metadata": {},
   "source": [
    "考虑一个线性变换 $g(\\mathbf c)=\\mathbf{Dc}, \\mathbf D\\in \\mathbb R^{n\\times l}$，一般来说，直接寻找这个矩阵是困难的，所以我们将这个矩阵的列向量约束为相互正交的。另一方面，考虑到放缩的问题，我们将这个矩阵的列向量约束为单位矩阵。\n",
    "\n",
    "我们先考虑如何找到最优的编码 $\\mathbf c$：\n",
    "\n",
    "$$\n",
    "\\mathbf c^\\star=\\arg\\min_{\\mathbf c} \\|\\mathbf x - g(\\mathbf c)\\|_2=\\arg\\min_{\\mathbf c} \\|\\mathbf x - g(\\mathbf c)\\|_2^2 \n",
    "$$\n",
    "\n",
    "转化为平方二范数之后，我们有：\n",
    "\n",
    "$$\n",
    "\\|\\mathbf x - g(\\mathbf c)\\|_2^2 \n",
    "=(\\mathbf x - g(\\mathbf c))^\\top(\\mathbf x - g(\\mathbf c))\n",
    "= \\mathbf{x^\\top x} - 2\\mathbf x^\\top g(\\mathbf c) + g(\\mathbf c)^\\top g(\\mathbf c)\n",
    "$$"
   ]
  },
  {
   "cell_type": "code",
   "execution_count": null,
   "metadata": {
    "collapsed": true
   },
   "outputs": [],
   "source": []
  },
  {
   "cell_type": "code",
   "execution_count": null,
   "metadata": {
    "collapsed": true
   },
   "outputs": [],
   "source": []
  },
  {
   "cell_type": "code",
   "execution_count": null,
   "metadata": {
    "collapsed": true
   },
   "outputs": [],
   "source": []
  }
 ],
 "metadata": {
  "kernelspec": {
   "display_name": "Python 2",
   "language": "python",
   "name": "python2"
  },
  "language_info": {
   "codemirror_mode": {
    "name": "ipython",
    "version": 2
   },
   "file_extension": ".py",
   "mimetype": "text/x-python",
   "name": "python",
   "nbconvert_exporter": "python",
   "pygments_lexer": "ipython2",
   "version": "2.7.6"
  }
 },
 "nbformat": 4,
 "nbformat_minor": 0
}
